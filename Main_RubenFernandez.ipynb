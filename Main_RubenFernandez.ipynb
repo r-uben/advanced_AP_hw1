{
 "cells": [
  {
   "cell_type": "code",
   "execution_count": 5,
   "metadata": {},
   "outputs": [
    {
     "ename": "TypeError",
     "evalue": "a bytes-like object is required, not 'str'",
     "output_type": "error",
     "traceback": [
      "\u001b[0;31m---------------------------------------------------------------------------\u001b[0m",
      "\u001b[0;31mTypeError\u001b[0m                                 Traceback (most recent call last)",
      "Cell \u001b[0;32mIn [5], line 3\u001b[0m\n\u001b[1;32m      1\u001b[0m \u001b[39mfrom\u001b[39;00m \u001b[39mpynare\u001b[39;00m \u001b[39mimport\u001b[39;00m pynare\n\u001b[1;32m      2\u001b[0m modfile \u001b[39m=\u001b[39m \u001b[39m\"\u001b[39m\u001b[39mRubenFernandez.mod\u001b[39m\u001b[39m\"\u001b[39m\n\u001b[0;32m----> 3\u001b[0m mod0 \u001b[39m=\u001b[39m pynare(modfile)\n",
      "File \u001b[0;32m~/Dropbox/courses/advanced_AP/advanced_AP_hw1/venv/lib/python3.10/site-packages/pynare/core.py:252\u001b[0m, in \u001b[0;36mpynare\u001b[0;34m(modpath, **kwargs)\u001b[0m\n\u001b[1;32m    249\u001b[0m \u001b[39melse\u001b[39;00m:\n\u001b[1;32m    250\u001b[0m     need_pause \u001b[39m=\u001b[39m \u001b[39mFalse\u001b[39;00m\n\u001b[0;32m--> 252\u001b[0m mod_obj \u001b[39m=\u001b[39m model(modpath, \u001b[39m*\u001b[39;49m\u001b[39m*\u001b[39;49mkwargs)\n\u001b[1;32m    254\u001b[0m \u001b[39mif\u001b[39;00m need_pause:\n\u001b[1;32m    255\u001b[0m     \u001b[39minput\u001b[39m(\u001b[39m'\u001b[39m\u001b[39m\\n\u001b[39;00m\u001b[39m[press Enter to exit]\u001b[39m\u001b[39m'\u001b[39m)\n",
      "File \u001b[0;32m~/Dropbox/courses/advanced_AP/advanced_AP_hw1/venv/lib/python3.10/site-packages/pynare/core.py:111\u001b[0m, in \u001b[0;36mmodel.__init__\u001b[0;34m(self, modpath, engine, plot, verbose)\u001b[0m\n\u001b[1;32m    108\u001b[0m \u001b[39mself\u001b[39m\u001b[39m.\u001b[39meng\u001b[39m.\u001b[39meval(\u001b[39m'\u001b[39m\u001b[39mcd \u001b[39m\u001b[39m'\u001b[39m\u001b[39m+\u001b[39m\u001b[39mself\u001b[39m\u001b[39m.\u001b[39mdirpath, nargout\u001b[39m=\u001b[39m\u001b[39m0\u001b[39m)\n\u001b[1;32m    110\u001b[0m \u001b[39mif\u001b[39;00m \u001b[39mself\u001b[39m\u001b[39m.\u001b[39misnotebook \u001b[39mand\u001b[39;00m \u001b[39mself\u001b[39m\u001b[39m.\u001b[39mengine_type \u001b[39m==\u001b[39m \u001b[39m'\u001b[39m\u001b[39mmatlab\u001b[39m\u001b[39m'\u001b[39m:\n\u001b[0;32m--> 111\u001b[0m     \u001b[39mprint\u001b[39;49m(\u001b[39m\"\u001b[39;49m\u001b[39mNote: pynare is running in a Jupyter notebook or qtconsole. Both do not allow to (easily) redirect output from the matlab process to the interface. For that reason the \u001b[39;49m\u001b[39m'\u001b[39;49m\u001b[39m*.log\u001b[39;49m\u001b[39m'\u001b[39;49m\u001b[39m output will be blobbed just at the end of the calculation.\u001b[39;49m\u001b[39m\\n\u001b[39;49;00m\u001b[39m\"\u001b[39;49m)\n\u001b[1;32m    113\u001b[0m \u001b[39mself\u001b[39m\u001b[39m.\u001b[39mrun()\n",
      "\u001b[0;31mTypeError\u001b[0m: a bytes-like object is required, not 'str'"
     ]
    }
   ],
   "source": [
    "from pynare import pynare\n",
    "modfile = \"RubenFernandez.mod\"\n",
    "mod0 = pynare(modfile)"
   ]
  },
  {
   "cell_type": "code",
   "execution_count": null,
   "metadata": {},
   "outputs": [],
   "source": []
  }
 ],
 "metadata": {
  "kernelspec": {
   "display_name": "Python 3.10.8 ('venv': venv)",
   "language": "python",
   "name": "python3"
  },
  "language_info": {
   "codemirror_mode": {
    "name": "ipython",
    "version": 3
   },
   "file_extension": ".py",
   "mimetype": "text/x-python",
   "name": "python",
   "nbconvert_exporter": "python",
   "pygments_lexer": "ipython3",
   "version": "3.10.8"
  },
  "orig_nbformat": 4,
  "vscode": {
   "interpreter": {
    "hash": "3e0fc21bef577199a9133d6f7f98249967fb59130ec3f7c54c2e9f2066fcf4f7"
   }
  }
 },
 "nbformat": 4,
 "nbformat_minor": 2
}
